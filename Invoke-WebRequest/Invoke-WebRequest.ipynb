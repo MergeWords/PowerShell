{
    "metadata": {
        "kernelspec": {
            "name": "powershell",
            "display_name": "PowerShell"
        },
        "language_info": {
            "name": "powershell",
            "codemirror_mode": "shell",
            "mimetype": "text/x-sh",
            "file_extension": ".ps1"
        }
    },
    "nbformat_minor": 2,
    "nbformat": 4,
    "cells": [
        {
            "cell_type": "markdown",
            "source": [
                "# Invoke-WebRequest\n",
                "**Objective**: Scrape data from a webpage without an API service\n",
                "\n",
                "**Website**: [Quotes to Scrape](quotes.toscrape.com)\n",
                "- Quote\n",
                "- Author\n",
                "- Tags\n",
                "\n",
                "<img src=\"https://github.com/MergeWords/PowerShell/blob/Invoke-WebRequest/Invoke-WebRequest/screencapture-quotes-toscrape-2020-06-12-02_16_10-edit.png?raw=true\" width=\"90%\">"
            ],
            "metadata": {
                "azdata_cell_guid": "98bad1b2-3e4d-4c08-b281-797c28e34277"
            }
        },
        {
            "cell_type": "markdown",
            "source": [
                "## Step 1 - Inspect HTML structure"
            ],
            "metadata": {
                "azdata_cell_guid": "ba463db1-d8f5-46ed-9033-09db3b2119ba"
            }
        },
        {
            "cell_type": "code",
            "source": [
                "$WebSite = Invoke-WebRequest \"http://quotes.toscrape.com/\"\r\n",
                "$WebSite"
            ],
            "metadata": {
                "azdata_cell_guid": "1e21d2cd-6cb8-4602-a05e-962584151506",
                "tags": []
            },
            "outputs": [
                {
                    "name": "stdout",
                    "text": "\n\nStatusCode        : 200\nStatusDescription : OK\nContent           : <!DOCTYPE html>\n                    <html lang=\"en\">\n                    <head>\n                    \t<meta charset=\"UTF-8\">\n                    \t<title>Quotes to Scrape</title>\n                        <link rel=\"stylesheet\" href=\"/static/bootstrap.min.css\">\n                        <link rel=\"stylesheet\" href=\"/static/m...\nRawContent        : HTTP/1.1 200 OK\n                    Connection: keep-alive\n                    X-Upstream: spidyquotes-master_web\n                    Content-Length: 11053\n                    Content-Type: text/html; charset=utf-8\n                    Date: Fri, 12 Jun 2020 08:17:06 GMT\n                    Server: nginx/1.14.0 (U...\nForms             : {}\nHeaders           : {[Connection, keep-alive], [X-Upstream, spidyquotes-master_web], [Content-Length, 11053], \n                    [Content-Type, text/html; charset=utf-8]...}\nImages            : {}\nInputFields       : {}\nLinks             : {@{innerHTML=Quotes to Scrape; innerText=Quotes to Scrape; outerHTML=<A style=\"TEXT-DECORATION: \n                    none\" href=\"/\">Quotes to Scrape</A>; outerText=Quotes to Scrape; tagName=A; style=TEXT-DECORATION: \n                    none; href=/}, @{innerHTML=Login; innerText=Login; outerHTML=<A href=\"/login\">Login</A>; \n                    outerText=Login; tagName=A; href=/login}, @{innerHTML=(about); innerText=(about); outerHTML=<A \n                    href=\"/author/Albert-Einstein\">(about)</A>; outerText=(about); tagName=A; \n                    href=/author/Albert-Einstein}, @{innerHTML=change; innerText=change; outerHTML=<A class=tag \n                    href=\"/tag/change/page/1/\">change</A>; outerText=change; tagName=A; class=tag; \n                    href=/tag/change/page/1/}...}\nParsedHtml        : mshtml.HTMLDocumentClass\nRawContentLength  : 11053\n\n\n\n",
                    "output_type": "stream"
                }
            ],
            "execution_count": 31
        },
        {
            "cell_type": "markdown",
            "source": [
                "Use the **Content** method to view all the HTML for the site"
            ],
            "metadata": {
                "azdata_cell_guid": "5a845642-76b9-482a-bb90-e9960495c136"
            }
        },
        {
            "cell_type": "code",
            "source": [
                "$Website.Content"
            ],
            "metadata": {
                "azdata_cell_guid": "21cc1b9d-c2df-40bd-afd8-bbbef81881f2",
                "tags": [
                    "hide_input"
                ]
            },
            "outputs": [],
            "execution_count": null
        },
        {
            "cell_type": "markdown",
            "source": [
                "> - **Quote** is in [<_span_>](https://developer.mozilla.org/en-US/docs/Web/HTML/Element/span) element\r\n",
                "> - **Author** is in the [<_small_>](https://developer.mozilla.org/en-US/docs/Web/HTML/Element/small) element\r\n",
                "> - **Tags** are in the [<_meta_>](https://developer.mozilla.org/en-US/docs/Web/HTML/Element/meta) element"
            ],
            "metadata": {
                "azdata_cell_guid": "0c50bab2-8e58-42d6-95f8-61332064e5f1"
            }
        }
    ]
}
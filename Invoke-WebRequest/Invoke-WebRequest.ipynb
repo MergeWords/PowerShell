{
    "metadata": {
        "kernelspec": {
            "name": "powershell",
            "display_name": "PowerShell"
        },
        "language_info": {
            "name": "powershell",
            "codemirror_mode": "shell",
            "mimetype": "text/x-sh",
            "file_extension": ".ps1"
        }
    },
    "nbformat_minor": 2,
    "nbformat": 4,
    "cells": [
        {
            "cell_type": "markdown",
            "source": [
                "# Invoke-WebRequest\n",
                "\n",
                "**Objective**: Scrape data from a webpage without an API service\n",
                "\n",
                "**Tutorial**: [Web Scraping with PowerShell](https://www.pipehow.tech/invoke-webscrape/)\n",
                "\n",
                "**Website**: [Quotes to Scrape](http://quotes.toscrape.com/)\n",
                "\n",
                "**Data to Capture / Parse:**\n",
                "\n",
                "-   Quote\n",
                "-   Author\n",
                "-   Tags\n",
                "\n",
                "![](https://github.com/MergeWords/PowerShell/blob/Invoke-WebRequest/Invoke-WebRequest/Images/screencapture-quotes-toscrape-2020-06-12-02_16_10-edit.png?raw=true)"
            ],
            "metadata": {
                "azdata_cell_guid": "98bad1b2-3e4d-4c08-b281-797c28e34277"
            }
        },
        {
            "cell_type": "markdown",
            "source": [
                "## Step 1 - Inspect HTML structure"
            ],
            "metadata": {
                "azdata_cell_guid": "ba463db1-d8f5-46ed-9033-09db3b2119ba"
            }
        },
        {
            "cell_type": "code",
            "source": [
                "$WebSite = Invoke-WebRequest \"http://quotes.toscrape.com/\"\r\n",
                "$WebSite"
            ],
            "metadata": {
                "azdata_cell_guid": "1e21d2cd-6cb8-4602-a05e-962584151506",
                "tags": []
            },
            "outputs": [],
            "execution_count": null
        },
        {
            "cell_type": "markdown",
            "source": [
                "## Step 2 - Use the **Content** method to view all the HTML for the site and pick out the elements needed to parse Quote, Author, and Tags data"
            ],
            "metadata": {
                "azdata_cell_guid": "5a845642-76b9-482a-bb90-e9960495c136"
            }
        },
        {
            "cell_type": "code",
            "source": [
                "$Website.Content"
            ],
            "metadata": {
                "azdata_cell_guid": "21cc1b9d-c2df-40bd-afd8-bbbef81881f2",
                "tags": []
            },
            "outputs": [],
            "execution_count": null
        },
        {
            "cell_type": "markdown",
            "source": [
                "-   **Quote** is in the [span](https://developer.mozilla.org/en-US/docs/Web/HTML/Element/span) element\n",
                "-   **Author** is in the [small](https://developer.mozilla.org/en-US/docs/Web/HTML/Element/small) element\n",
                "-   **Tags** are in the [meta](https://developer.mozilla.org/en-US/docs/Web/HTML/Element/meta) element\n",
                "\n",
                "\n",
                "<mark>`<span class`</mark>`=\"text\" itemprop=\"text\">\"The world as we have created it is a process of our thinking. It cannot be changed without changing our thinking.\"</span>`\n",
                "\n",
                "`<span>by `<mark>`<small class`</mark>`=\"author\" itemprop=\"author\">Albert Einstein</small>\n",
                "<a href=\"/author/Albert-Einstein\">(about)</a>\n",
                "</span>`\n",
                "\n",
                "`<div class=\"tags\">\n",
                "    Tags:\n",
                "    `<mark>`<meta class`</mark>`=\"keywords\" itemprop=\"keywords\" content=\"change,deep-thoughts,thinking,world\" /    >`"
            ],
            "metadata": {
                "azdata_cell_guid": "0c50bab2-8e58-42d6-95f8-61332064e5f1"
            }
        },
        {
            "cell_type": "code",
            "source": [
                ""
            ],
            "metadata": {
                "azdata_cell_guid": "16c8dc93-7fba-4c23-aa0d-b8bc45e17ccf",
                "tags": []
            },
            "outputs": [],
            "execution_count": null
        }
    ]
}
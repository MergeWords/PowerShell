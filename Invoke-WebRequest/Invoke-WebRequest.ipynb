{
    "metadata": {
        "kernelspec": {
            "name": "SQL",
            "display_name": "SQL",
            "language": "sql"
        },
        "language_info": {
            "name": "sql",
            "version": ""
        }
    },
    "nbformat_minor": 2,
    "nbformat": 4,
    "cells": [
        {
            "cell_type": "markdown",
            "source": [
                "# Invoke-WebRequest\n",
                "\n",
                "#### Description \n",
                "The 298 Domestic Vs Non-Domestic report is is a month-end claims review report provided for Phoebe Putnam Health System - master group 298. The report offers a claims review snapshot subdivided by domestic claims, bill type, locations, and plans. The EOM report is currently generated manually via WLT claims exports and MS Access. \n",
                "\n",
                "The aim is to transfer the logic per Phoebe MS Access database to SQL script to automate the report.\n",
                "\n",
                "* The MS Access database can be found at: [S:\\Depts\\Reporting & Analytics\\Access Databases\\Phoebe.accdb](file:///S:/Depts/Reporting%20&%20Analytics/Access%20Databases/Phoebe.accdb). \n",
                "* The report used as a control for data alignment can be found at: [S:\\Groups\\active\\Phoebe Putney Health System (298)\\Month End Reports\\2020 Month End Reports\\January\\298 Domestic vs Non Domestic Jan 2019.xlsx](file:///S:/Groups/active/Phoebe%20Putney%20Health%20System%20(298)/Month%20End%20Reports/2020%20Month%20End%20Reports/January/298%20Domestic%20vs%20Non%20Domestic%20Jan%202019.xlsx).\n",
                "* The reporting period used for comparison is August 1st, 2019 through January 31st 2020. \n",
                "\n",
                "> Original request / details: [JIRA PS-2825](https://jira.maestrohealth.com/browse/PS-2825). "
            ],
            "metadata": {
                "azdata_cell_guid": "98bad1b2-3e4d-4c08-b281-797c28e34277"
            }
        },
        {
            "cell_type": "markdown",
            "source": [
                "## Step 1 - Get and inspect the data\r\n",
                "\r\n",
                "The Phoebe Database aggregates WLT claims data exports using 4 main tables:"
            ],
            "metadata": {
                "azdata_cell_guid": "ba463db1-d8f5-46ed-9033-09db3b2119ba"
            }
        },
        {
            "cell_type": "markdown",
            "source": [
                "#### 298 Domestic TIN\r\n",
                "Provider TIN to categorize domestic claims. \r\n",
                "\r\n",
                "<img src=\"https://github.com/fdk1034e/Access-Database-Queries/blob/master/298/298_Domestic_TIN.png?raw=true\" width=\"38%\">"
            ],
            "metadata": {
                "azdata_cell_guid": "c043ce55-cc1e-48cd-bd83-58185a4e68a0"
            }
        },
        {
            "cell_type": "markdown",
            "source": [
                "#### 298 Locations\r\n",
                "Location Name2 to bin sub-group location numbers / active & cobra location names.\r\n",
                "\r\n",
                "<img src=\"https://github.com/fdk1034e/Access-Database-Queries/blob/master/298/298_Locations.png?raw=true\" width=\"50%\">"
            ],
            "metadata": {
                "azdata_cell_guid": "833d2cbb-9db1-4c0e-8d04-96947fa8c826"
            }
        },
        {
            "cell_type": "markdown",
            "source": [
                "#### 298 Sub-groups\r\n",
                "Plan Name to bin sub-group numbers / names.\r\n",
                "\r\n",
                "<img src=\"https://github.com/fdk1034e/Access-Database-Queries/blob/master/298/298_Sub_groups.png?raw=true\" width=\"50%\">"
            ],
            "metadata": {
                "azdata_cell_guid": "6856feff-4041-42d4-a57a-9b8a6912dab6"
            }
        },
        {
            "cell_type": "markdown",
            "source": [
                "#### Claims YTD\r\n",
                "Table created via importing WLT claims data export file.\r\n",
                "\r\n",
                "<img src=\"https://github.com/fdk1034e/Access-Database-Queries/blob/master/298/Claims_YTD.png?raw=true\" width=\"50%\"> "
            ],
            "metadata": {
                "azdata_cell_guid": "fb21552c-278c-44bf-96fd-2539fa668c99"
            }
        },
        {
            "cell_type": "markdown",
            "source": [
                "## Step 2 - Pull claims data from MediClaims\r\n",
                "\r\n",
                "MediClaims linked server accessed from:\r\n",
                "\r\n",
                "| Server | Database | Credential |\r\n",
                "| --- | --- | --- |\r\n",
                "| SQL01_CLT | Master | Windows Auth |"
            ],
            "metadata": {
                "azdata_cell_guid": "60260a69-ed19-45e9-ab03-c7d122b77d42"
            }
        },
        {
            "cell_type": "code",
            "source": [
                "/*Pull claims data from Medi*/\r\n",
                "DECLARE @MSTKEY INT = 298\r\n",
                "DECLARE @StartDate DATE = '2019-08-01'\r\n",
                "DECLARE @EndDate DATE = '2020-01-31'\r\n",
                "\r\n",
                "DELETE\r\n",
                "FROM MEDI..JASPER_REPORT.REPORT_PARAMETERS\r\n",
                "\r\n",
                "INSERT INTO MEDI..JASPER_REPORT.REPORT_PARAMETERS (\r\n",
                "    GRPNO\r\n",
                "    , START_DT\r\n",
                "    , END_DT\r\n",
                "    )\r\n",
                "SELECT @MSTKEY\r\n",
                "    , @StartDate\r\n",
                "    , @EndDate\r\n",
                "\r\n",
                "IF OBJECT_ID(N'tempdb..#Medi_Claims') IS NOT NULL\r\n",
                "    DROP TABLE #Medi_Claims\r\n",
                "\r\n",
                "SELECT *\r\n",
                "INTO #Medi_Claims\r\n",
                "FROM OPENQUERY(MEDI,\r\n",
                "        '\r\n",
                "        WITH GrpData as (\r\n",
                "            SELECT\r\n",
                "                t1.*,\r\n",
                "                t2.START_DT,\r\n",
                "                t2.END_DT\r\n",
                "            FROM MEDI.GROUPDATA t1\r\n",
                "                JOIN JASPER_REPORT.REPORT_PARAMETERS t2\r\n",
                "                    ON t1.MSTKEY = t2.GRPNO)\r\n",
                "        , HstClaim as (\r\n",
                "            SELECT DISTINCT\r\n",
                "                T.GRPNO Sub_Group_No,\r\n",
                "                G.NAME Sub_Group_Name,\r\n",
                "                T.LOCNO Location_No,\r\n",
                "                L.NAME Location_Name,\r\n",
                "                to_Char(E.GRPNO,''FM00000'') || to_char(E.EMPNO,''FM00000'')|| to_char(E.DEPNO,''FM00'') Insured_ID,\r\n",
                "                to_Char(E.GRPNO,''FM00000'') || to_char(E.EMPNO,''FM00000'')|| to_char(E.DEPNO,''FM00'') Patient_ID,\r\n",
                "                T.CLMPRE ||''-''|| to_char(T.CLMNO,''FM000000000'')||''-''|| to_char(T.CLMSUF,''FM0000'') Claim_Number,\r\n",
                "                D.CLMLN Claim_Line_Number,\r\n",
                "                DECODE( T.DLYFLAG, 0, ''UNEDITED'', 1, ''ADJUDICATED'', 2, ''THROUGH DAILY'', 3, ''PAID'', 6, ''INSTANT CHECK'', 9, ''DEBIT ADJUSTED'') Claim_Status,\r\n",
                "                T.PDDT Paid_Date,\r\n",
                "                DECODE( T.CLMTP, 0, ''OTHER'', 1, ''MEDICAL'', 2, ''DENTAL'', 3, ''VISION'', 4, ''DRUG'', 5, ''MISC'', 6, ''MENTAL/NERVOUS'', 7, ''LTD'', 8, ''STD'', 9, ''EXPENSE'', 10, ''FLEX'') Claim_Type,\r\n",
                "                DECODE( D.CLMTP, 0, ''OTHER'', 1, ''MEDICAL'', 2, ''DENTAL'', 3, ''VISION'', 4, ''DRUG'', 5, ''MISC'', 6, ''MENTAL/NERVOUS'', 7, ''LTD'', 8, ''STD'', 9, ''EXPENSE'', 10, ''FLEX'') Claim_Line_Type,\r\n",
                "                D.PLNRESP Plan_Resp_Amt,\r\n",
                "                DECODE( T.BILLTP, 0, ''Professional'', 1, ''Institutional'', 2, ''Dental'') Bill_Type,\r\n",
                "                CASE\r\n",
                "                    WHEN P1.FED1099ID = 0\r\n",
                "                    THEN TO_CHAR(P1.PRVNO, ''FM000000000'')\r\n",
                "                    ELSE TO_CHAR(P1.FED1099ID, ''FM000000000'')\r\n",
                "                END\tAS Provider_TIN,\r\n",
                "                D.PLNNO Plan_No,\r\n",
                "                PN.NAME Plan_Name,\r\n",
                "                D.CVGCD Coverage_No,\r\n",
                "                G.MSTKEY,\r\n",
                "                G.GRPKEY,\r\n",
                "                G.BEGDT Group_Beg_Date\r\n",
                "            FROM MEDI.HSTTRAN T\r\n",
                "            JOIN GrpData G\r\n",
                "                ON (T.GRPNO = G.GRPNO)\r\n",
                "            JOIN MEDI.HSTDETL D\r\n",
                "                ON (T.CLMPRE = D.CLMPRE\r\n",
                "                AND T.CLMNO = D.CLMNO\r\n",
                "                AND T.CLMSUF = D.CLMSUF)\r\n",
                "            JOIN MEDI.EMPDEP E\r\n",
                "                ON (T.GRPNO = E.GRPNO\r\n",
                "                AND T.EMPNO = E.EMPNO\r\n",
                "                AND T.DEPNO = E.DEPNO)\r\n",
                "            LEFT JOIN MEDI.PROVIDER P1\r\n",
                "                ON T.PRVNO = P1.PRVNO\r\n",
                "                AND T.PRVSUF = P1.IDSUFFIX\r\n",
                "            LEFT JOIN MEDI.LOCATION L\r\n",
                "                ON T.GRPNO = L.GRPNO\r\n",
                "                AND T.LOCNO = L.LOCNO\r\n",
                "            LEFT JOIN MEDI.PLANNAME PN\r\n",
                "                ON D.PLNNO = PN.PLNNO\r\n",
                "            WHERE 1=1\r\n",
                "            AND T.PDDT >= TRUNC(G.START_DT)\r\n",
                "            AND T.PDDT < TRUNC(G.END_DT)\r\n",
                "            AND T.MEMOCLM = ''F'')\r\n",
                "        , MstData as (\r\n",
                "            SELECT\r\n",
                "                t1.MSTKEY Group_No,\r\n",
                "                t1.NAME Group_Name,\r\n",
                "                t3.*,\r\n",
                "                t1.PBEFFDT Plan_Ben_Eff_DT\r\n",
                "            FROM MEDI.GROUPDATA t1\r\n",
                "                JOIN JASPER_REPORT.REPORT_PARAMETERS t2\r\n",
                "                    ON t1.MSTKEY = t2.GRPNO AND t1.GRPKEY = 0\r\n",
                "                JOIN HstClaim t3\r\n",
                "                    ON t1.MSTKEY = t3.MSTKEY)\r\n",
                "        SELECT * FROM MstData\r\n",
                "        '\r\n",
                "    )\r\n",
                ""
            ],
            "metadata": {
                "azdata_cell_guid": "ca54a11b-ff87-4b1a-84d0-cae543cc6835",
                "tags": []
            },
            "outputs": [
                {
                    "output_type": "display_data",
                    "data": {
                        "text/html": "(0 rows affected)"
                    },
                    "metadata": {}
                },
                {
                    "output_type": "display_data",
                    "data": {
                        "text/html": "(1 row affected)"
                    },
                    "metadata": {}
                },
                {
                    "output_type": "display_data",
                    "data": {
                        "text/html": "(170234 rows affected)"
                    },
                    "metadata": {}
                },
                {
                    "output_type": "display_data",
                    "data": {
                        "text/html": "Total execution time: 00:01:36.508"
                    },
                    "metadata": {}
                }
            ],
            "execution_count": 1
        },
        {
            "cell_type": "markdown",
            "source": [
                "## Create Table: Claims YTD"
            ],
            "metadata": {
                "azdata_cell_guid": "351a0237-20a4-4c3d-bc10-61d8aa4a6cb4"
            }
        },
        {
            "cell_type": "code",
            "source": [
                "IF OBJECT_ID(N'tempdb..#Claims_YTD') IS NOT NULL\r\n",
                "    DROP TABLE #Claims_YTD\r\n",
                "\r\n",
                "CREATE TABLE #Claims_YTD\r\n",
                "(\r\n",
                "\t[Group No] INT,\r\n",
                "\t[Group Name] VARCHAR(50),\r\n",
                "\t[Sub-group No] INT,\r\n",
                "\t[Sub-group Name] VARCHAR(50),\r\n",
                "\t[Location No] INT,\r\n",
                "\t[Location Name] VARCHAR(50),\r\n",
                "\t[Insured ID] VARCHAR(25),\r\n",
                "\t[Patient ID] VARCHAR(25),\r\n",
                "\t[Claim Number] VARCHAR(70),\r\n",
                "\t[Claim Line No] INT,\r\n",
                "\t[Claim Status] VARCHAR(25),\r\n",
                "\t[Paid Date] DATETIME,\r\n",
                "\t[Claim Type] VARCHAR(25),\r\n",
                "\t[Claim Line Type] VARCHAR(25),\r\n",
                "\t[Plan Resp Amt] MONEY,\r\n",
                "\t[Bill Type] VARCHAR(25),\r\n",
                "\t[Provider TIN] VARCHAR(10),\r\n",
                "\t[Plan No] INT,\r\n",
                "\t[Plan Name] VARCHAR(50),\r\n",
                "\t[Coverage No] INT,\r\n",
                "\t[MSTKEY] INT,\r\n",
                "\t[GRPKEY] INT,\r\n",
                "    [Group Beg Date] DATETIME,\r\n",
                "    [Plan Ben Eff DT] DATETIME,\r\n",
                "    GRP_EFF_Date DATETIME,\r\n",
                "    TIN_Type VARCHAR(15),\r\n",
                "    Location_Name2 VARCHAR(50),\r\n",
                "    Plan_Name VARCHAR(50),\r\n",
                "    Paid_YrMo VARCHAR(20),\r\n",
                "    Paid_Start_DT DATE,\r\n",
                "    Paid_End_DT DATE\r\n",
                ")\r\n",
                ""
            ],
            "metadata": {
                "azdata_cell_guid": "3730cfdf-05cb-42f3-a794-d67ec6cefcad",
                "tags": [
                    "hide_input"
                ]
            },
            "outputs": [],
            "execution_count": null
        },
        {
            "cell_type": "markdown",
            "source": [
                "## Update Table: Claims YTD\r\n",
                ""
            ],
            "metadata": {
                "azdata_cell_guid": "44396855-c111-46a0-ba73-eb007578d4ee"
            }
        },
        {
            "cell_type": "code",
            "source": [
                "IF OBJECT_ID(N'tempdb..#298_Locations') IS NOT NULL\r\n",
                "BEGIN\r\n",
                "    DROP TABLE #298_Locations\r\n",
                "END\r\n",
                "\r\n",
                "CREATE TABLE #298_Locations (\r\n",
                "    [Location No] NUMERIC\r\n",
                "    , [Location Name] VARCHAR(50)\r\n",
                "    , [Location Name2] VARCHAR(50)\r\n",
                "    )\r\n",
                "\r\n",
                "INSERT INTO #298_Locations (\r\n",
                "    [Location No]\r\n",
                "    , [Location Name]\r\n",
                "    , [Location Name2]\r\n",
                "    )\r\n",
                "VALUES (\r\n",
                "    0\r\n",
                "    , 'LOCATION NOT ASSIGNED'\r\n",
                "    , 'PHOEBE HEALTH SYSTEM'\r\n",
                "    )\r\n",
                "    , (\r\n",
                "    10\r\n",
                "    , 'PHOEBE HOSPITAL - ACTVE'\r\n",
                "    , 'PHOEBE HOSPITAL'\r\n",
                "    )\r\n",
                "    , (\r\n",
                "    11\r\n",
                "    , 'PHOEBE HOSPITAL - COBRA'\r\n",
                "    , 'PHOEBE HOSPITAL'\r\n",
                "    )\r\n",
                "    , (\r\n",
                "    20\r\n",
                "    , 'PHOEBE HEALTH SYSTEM - ACTIVE'\r\n",
                "    , 'PHOEBE HEALTH SYSTEM'\r\n",
                "    )\r\n",
                "    , (\r\n",
                "    21\r\n",
                "    , 'PHOEBE HEALTH SYSTEM - COBRA'\r\n",
                "    , 'PHOEBE HEALTH SYSTEM'\r\n",
                "    )\r\n",
                "    , (\r\n",
                "    30\r\n",
                "    , 'PHOEBE PHYSICIANS GROUP - ACTIVE'\r\n",
                "    , 'PHOEBE PHYSICIANS GROUP'\r\n",
                "    )\r\n",
                "    , (\r\n",
                "    31\r\n",
                "    , 'PHOEBE PHYSICIANS GROUP - COBRA'\r\n",
                "    , 'PHOEBE PHYSICIANS GROUP'\r\n",
                "    )\r\n",
                "    , (\r\n",
                "    40\r\n",
                "    , 'PHOEBE SUMTER - ACTIVE'\r\n",
                "    , 'PHOEBE SUMTER'\r\n",
                "    )\r\n",
                "    , (\r\n",
                "    41\r\n",
                "    , 'PHOEBE SUMTER - COBRA'\r\n",
                "    , 'PHOEBE SUMTER'\r\n",
                "    )\r\n",
                "    , (\r\n",
                "    50\r\n",
                "    , 'PHOEBE WORTH - ACTIVE'\r\n",
                "    , 'PHOEBE WORTH'\r\n",
                "    )\r\n",
                "    , (\r\n",
                "    51\r\n",
                "    , 'PHOEBE WORTH - COBRA'\r\n",
                "    , 'PHOEBE WORTH'\r\n",
                "    )\r\n",
                "\r\n",
                "SELECT *\r\n",
                "FROM #298_Locations\r\n",
                "ORDER BY [Location No]\r\n",
                ""
            ],
            "metadata": {
                "azdata_cell_guid": "c39a1474-2b58-47ab-933a-840f19e96f08",
                "tags": [
                    "hide_input"
                ]
            },
            "outputs": [],
            "execution_count": null
        },
        {
            "cell_type": "code",
            "source": [
                "IF OBJECT_ID(N'tempdb..#298_Sub_groups') IS NOT NULL\r\n",
                "BEGIN\r\n",
                "    DROP TABLE #298_Sub_groups\r\n",
                "END\r\n",
                "\r\n",
                "SELECT DISTINCT Sub_Group_No\r\n",
                "    , Sub_Group_Name\r\n",
                "    , Plan_Name = CASE\r\n",
                "        WHEN LEN(Sub_Group_Name) > LEN('PHOEBE PUTNEY HEALTH SYSTEM')\r\n",
                "            THEN LTRIM(RTRIM(SUBSTRING(Sub_Group_Name, LEN('PHOEBE PUTNEY HEALTH SYSTEM') + 1, 7)))\r\n",
                "        END\r\n",
                "INTO #298_Sub_groups\r\n",
                "FROM #Claims_YTD\r\n",
                "\r\n",
                "SELECT * FROM #298_Sub_groups ORDER BY ISNULL(LEFT(Plan_Name, 0), 'a'), Plan_Name, Sub_Group_No"
            ],
            "metadata": {
                "azdata_cell_guid": "636e121f-3376-4f31-9d8c-6e8058d338d5",
                "tags": [
                    "hide_input"
                ]
            },
            "outputs": [],
            "execution_count": null
        }
    ]
}
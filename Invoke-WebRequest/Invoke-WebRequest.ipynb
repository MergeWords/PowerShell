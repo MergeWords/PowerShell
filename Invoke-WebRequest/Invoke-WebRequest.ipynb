{
    "metadata": {
        "kernelspec": {
            "name": "SQL",
            "display_name": "SQL",
            "language": "sql"
        },
        "language_info": {
            "name": "sql",
            "version": ""
        }
    },
    "nbformat_minor": 2,
    "nbformat": 4,
    "cells": [
        {
            "cell_type": "markdown",
            "source": [
                "# Invoke-WebRequest\n",
                "**Description**: Scrape data from a webpage\n",
                "\n",
                "**Website**: [Quotes to Scrape](quotes.toscrape.com)\n",
                "\n",
                "<img src=\"C:\\Users\\dkfc06bf\\Documents\\GitHub\\PowerShell\\Invoke-WebRequest\\screencapture-quotes-toscrape-2020-06-12-02_16_10-edit.png\" width=\"50%\">"
            ],
            "metadata": {
                "azdata_cell_guid": "98bad1b2-3e4d-4c08-b281-797c28e34277"
            }
        },
        {
            "cell_type": "markdown",
            "source": [
                "## Step 1 - Get and inspect the data\r\n",
                ""
            ],
            "metadata": {
                "azdata_cell_guid": "ba463db1-d8f5-46ed-9033-09db3b2119ba"
            }
        },
        {
            "cell_type": "markdown",
            "source": [
                "## Step 2 - \r\n",
                ""
            ],
            "metadata": {
                "azdata_cell_guid": "60260a69-ed19-45e9-ab03-c7d122b77d42"
            }
        }
    ]
}